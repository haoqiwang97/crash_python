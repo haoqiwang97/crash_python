{
 "cells": [
  {
   "cell_type": "code",
   "execution_count": 47,
   "id": "9a4cceb9",
   "metadata": {},
   "outputs": [],
   "source": [
    "from data import *\n",
    "from evaluate import *\n",
    "from sklearn.model_selection import train_test_split\n",
    "from sklearn.ensemble import RandomForestRegressor\n",
    "\n",
    "import matplotlib.pyplot as plt"
   ]
  },
  {
   "cell_type": "code",
   "execution_count": 48,
   "id": "4de85e93",
   "metadata": {},
   "outputs": [],
   "source": [
    "df = read_data(is_small=False, is_feat_engineering=True) \n",
    "#df = read_data(is_feat_engineering=True) \n",
    "\n",
    "df_X = df.drop(columns=['tot_crash_count'])\n",
    "df_y = df['tot_crash_count']\n",
    "\n",
    "X_train, X_test, y_train, y_test = train_test_split(df_X, df_y, test_size=0.1, random_state=1)\n",
    "X_train, X_val, y_train, y_val = train_test_split(X_train, y_train, test_size=0.1, random_state=1)"
   ]
  },
  {
   "cell_type": "code",
   "execution_count": 49,
   "id": "d2af4d99",
   "metadata": {},
   "outputs": [
    {
     "data": {
      "text/plain": [
       "{'rmse_train': 4.037173636550899,\n",
       " 'rmse_val': 11.368066356462517,\n",
       " 'r2_score_train': 0.9322891748758262,\n",
       " 'r2_score_val': 0.49127438735523654,\n",
       " 'mean_absolute_error_train': 0.9664906981941089,\n",
       " 'mean_absolute_error_val': 2.6447288039720953,\n",
       " 'mean_absolute_percentage_error_train': 1214903380295214.5,\n",
       " 'mean_absolute_percentage_error_val': 3431198187410546.5,\n",
       " 'median_absolute_error_train': 0.13,\n",
       " 'median_absolute_error_val': 0.38,\n",
       " 'explained_variance_score_train': 0.932297780111528,\n",
       " 'explained_variance_score_val': 0.49132339886698395}"
      ]
     },
     "execution_count": 49,
     "metadata": {},
     "output_type": "execute_result"
    }
   ],
   "source": [
    "rf_reg = RandomForestRegressor(random_state=1, n_jobs=-1)\n",
    "rf_reg.fit(X_train, y_train)\n",
    "\n",
    "print_evaluation_all(y_val, rf_reg.predict(X_val), y_train, rf_reg.predict(X_train))"
   ]
  },
  {
   "cell_type": "code",
   "execution_count": 50,
   "id": "145de996",
   "metadata": {},
   "outputs": [],
   "source": [
    "importances = rf_reg.feature_importances_\n",
    "indices = np.argsort(importances)\n",
    "features = list(X_train.columns)"
   ]
  },
  {
   "cell_type": "code",
   "execution_count": 51,
   "id": "c7174231",
   "metadata": {},
   "outputs": [
    {
     "data": {
      "text/plain": [
       "array([0.29574474, 0.13560491, 0.09707496, 0.0679013 , 0.0600131 ,\n",
       "       0.05335078, 0.04549475, 0.03813816, 0.03669408, 0.03505112,\n",
       "       0.03093017, 0.02666963, 0.01977888, 0.01656991, 0.01638973,\n",
       "       0.01606177, 0.00853202])"
      ]
     },
     "execution_count": 51,
     "metadata": {},
     "output_type": "execute_result"
    }
   ],
   "source": [
    "np.sort(importances)[::-1]"
   ]
  },
  {
   "cell_type": "code",
   "execution_count": 52,
   "id": "c2c7f6d3",
   "metadata": {},
   "outputs": [
    {
     "data": {
      "image/png": "[encoded data removed]",
      "text/plain": [
       "<Figure size 360x864 with 1 Axes>"
      ]
     },
     "metadata": {},
     "output_type": "display_data"
    }
   ],
   "source": [
    "plt.figure(figsize=(5,12))\n",
    "plt.barh(range(len(indices)), importances[indices]);\n",
    "plt.yticks(range(len(indices)), [features[i] for i in indices]);"
   ]
  },
  {
   "cell_type": "code",
   "execution_count": 53,
   "id": "b782093f",
   "metadata": {},
   "outputs": [
    {
     "data": {
      "text/plain": [
       "{'rmse_train': 4.134793633293159,\n",
       " 'rmse_val': 11.392033087839346,\n",
       " 'r2_score_train': 0.9289750516192332,\n",
       " 'r2_score_val': 0.48912708417602857,\n",
       " 'mean_absolute_error_train': 0.9791448204583862,\n",
       " 'mean_absolute_error_val': 2.6590340016340894,\n",
       " 'mean_absolute_percentage_error_train': 1216284828455330.5,\n",
       " 'mean_absolute_percentage_error_val': 3426180428476839.5,\n",
       " 'median_absolute_error_train': 0.1399999999999999,\n",
       " 'median_absolute_error_val': 0.38,\n",
       " 'explained_variance_score_train': 0.9289832462084323,\n",
       " 'explained_variance_score_val': 0.48917352806553926}"
      ]
     },
     "execution_count": 53,
     "metadata": {},
     "output_type": "execute_result"
    }
   ],
   "source": [
    "rf_reg = RandomForestRegressor(random_state=1, n_jobs=-1, n_estimators=50)\n",
    "rf_reg.fit(X_train, y_train)\n",
    "\n",
    "print_evaluation_all(y_val, rf_reg.predict(X_val), y_train, rf_reg.predict(X_train))"
   ]
  },
  {
   "cell_type": "code",
   "execution_count": 54,
   "id": "ff115f96",
   "metadata": {},
   "outputs": [
    {
     "data": {
      "text/plain": [
       "{'rmse_train': 5.452878774862445,\n",
       " 'rmse_val': 11.23002464544543,\n",
       " 'r2_score_train': 0.8764749794996074,\n",
       " 'r2_score_val': 0.5035542211989528,\n",
       " 'mean_absolute_error_train': 1.3032318489658772,\n",
       " 'mean_absolute_error_val': 2.6166672504610187,\n",
       " 'mean_absolute_percentage_error_train': 1683275195733413.5,\n",
       " 'mean_absolute_percentage_error_val': 3453463661425513.0,\n",
       " 'median_absolute_error_train': 0.20455970418470418,\n",
       " 'median_absolute_error_val': 0.39310317460317457,\n",
       " 'explained_variance_score_train': 0.8764877023691514,\n",
       " 'explained_variance_score_val': 0.5035926787773802}"
      ]
     },
     "execution_count": 54,
     "metadata": {},
     "output_type": "execute_result"
    }
   ],
   "source": [
    "rf_reg = RandomForestRegressor(random_state=1, n_jobs=-1, n_estimators=100, min_samples_split=6, max_features=8)\n",
    "rf_reg.fit(X_train, y_train)\n",
    "\n",
    "print_evaluation_all(y_val, rf_reg.predict(X_val), y_train, rf_reg.predict(X_train))"
   ]
  },
  {
   "cell_type": "code",
   "execution_count": 55,
   "id": "713a3264",
   "metadata": {},
   "outputs": [
    {
     "data": {
      "text/plain": [
       "{'rmse_train': 5.415216839889712,\n",
       " 'rmse_val': 11.199086573882811,\n",
       " 'r2_score_train': 0.8781754117325926,\n",
       " 'r2_score_val': 0.5062858124165841,\n",
       " 'mean_absolute_error_train': 1.2977092367639909,\n",
       " 'mean_absolute_error_val': 2.6092647285985633,\n",
       " 'mean_absolute_percentage_error_train': 1683877402587062.8,\n",
       " 'mean_absolute_percentage_error_val': 3450018240784590.5,\n",
       " 'median_absolute_error_train': 0.2051870490620491,\n",
       " 'median_absolute_error_val': 0.39178003246753246,\n",
       " 'explained_variance_score_train': 0.8781889855779982,\n",
       " 'explained_variance_score_val': 0.5063247078040951}"
      ]
     },
     "execution_count": 55,
     "metadata": {},
     "output_type": "execute_result"
    }
   ],
   "source": [
    "rf_reg = RandomForestRegressor(random_state=1, n_jobs=-1, n_estimators=200, min_samples_split=6, max_features=8)\n",
    "rf_reg.fit(X_train, y_train)\n",
    "\n",
    "print_evaluation_all(y_val, rf_reg.predict(X_val), y_train, rf_reg.predict(X_train))"
   ]
  },
  {
   "cell_type": "code",
   "execution_count": null,
   "id": "49ac133a",
   "metadata": {},
   "outputs": [],
   "source": [
    "rf_reg = RandomForestRegressor(random_state=1, n_jobs=-1, n_estimators=300, min_samples_split=6, max_features=8)\n",
    "rf_reg.fit(X_train, y_train)\n",
    "\n",
    "print_evaluation_all(y_val, rf_reg.predict(X_val), y_train, rf_reg.predict(X_train))"
   ]
  }
 ],
 "metadata": {
  "kernelspec": {
   "display_name": "Python 3 (Spyder)",
   "language": "python3",
   "name": "python3"
  },
  "language_info": {
   "codemirror_mode": {
    "name": "ipython",
    "version": 3
   },
   "file_extension": ".py",
   "mimetype": "text/x-python",
   "name": "python",
   "nbconvert_exporter": "python",
   "pygments_lexer": "ipython3",
   "version": "3.8.12"
  }
 },
 "nbformat": 4,
 "nbformat_minor": 5
}
